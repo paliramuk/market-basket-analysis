{
 "cells": [
  {
   "cell_type": "markdown",
   "metadata": {
    "collapsed": true
   },
   "source": [
    "### Objective: Which products will an Instacart consumer purchase again?\n",
    "#### We'll apply some different models to observe their predictive performance. "
   ]
  },
  {
   "cell_type": "code",
   "execution_count": 3,
   "metadata": {
    "collapsed": true
   },
   "outputs": [],
   "source": [
    "import pandas as pd\n",
    "import numpy as np\n",
    "pd.set_option('precision',4)\n",
    "\n",
    "import seaborn as sns\n",
    "import matplotlib.pyplot as plt\n",
    "%matplotlib inline\n",
    "plt.style.use('seaborn')"
   ]
  },
  {
   "cell_type": "code",
   "execution_count": 41,
   "metadata": {},
   "outputs": [],
   "source": [
    "# create validation data set, keeping features of importance\n",
    "order_products_train_df = pd.read_csv(\"input/order_products__train.csv\") \n",
    "order_products_train_df = order_products_train_df.drop(['add_to_cart_order'],axis=1)\n",
    "\n",
    "orders_df = pd.read_csv('input/orders.csv')\n",
    "orders_df = orders_df[orders_df.eval_set=='train'].iloc[:,:2]\n",
    "\n",
    "temp_prior_orders_df = pd.read_csv('transformed/prior_order_features.csv')\n",
    "temp_prior_orders_df = temp_prior_orders_df[['user_id','product_id','user_prod_reorder_rate','user_prod_reorders','prod_reorder_rate','user_orders','avg_add_to_cart_order']]\n",
    "\n",
    "train_order_features_df = order_products_train_df.merge(orders_df, how='left', on='order_id').merge(temp_prior_orders_df, how='left', on=['user_id','product_id'])"
   ]
  },
  {
   "cell_type": "code",
   "execution_count": 15,
   "metadata": {},
   "outputs": [
    {
     "data": {
      "text/html": [
       "<div>\n",
       "<style>\n",
       "    .dataframe thead tr:only-child th {\n",
       "        text-align: right;\n",
       "    }\n",
       "\n",
       "    .dataframe thead th {\n",
       "        text-align: left;\n",
       "    }\n",
       "\n",
       "    .dataframe tbody tr th {\n",
       "        vertical-align: top;\n",
       "    }\n",
       "</style>\n",
       "<table border=\"1\" class=\"dataframe\">\n",
       "  <thead>\n",
       "    <tr style=\"text-align: right;\">\n",
       "      <th></th>\n",
       "      <th>order_id</th>\n",
       "      <th>product_id</th>\n",
       "      <th>reordered</th>\n",
       "      <th>user_id</th>\n",
       "      <th>user_prod_reorder_rate</th>\n",
       "      <th>user_prod_reorders</th>\n",
       "      <th>prod_reorder_rate</th>\n",
       "      <th>user_orders</th>\n",
       "      <th>avg_add_to_cart_order</th>\n",
       "    </tr>\n",
       "  </thead>\n",
       "  <tbody>\n",
       "    <tr>\n",
       "      <th>889086</th>\n",
       "      <td>630733</td>\n",
       "      <td>4329</td>\n",
       "      <td>1</td>\n",
       "      <td>88293</td>\n",
       "      <td>0.1600</td>\n",
       "      <td>4.0</td>\n",
       "      <td>0.5740</td>\n",
       "      <td>25.0</td>\n",
       "      <td>2.6000</td>\n",
       "    </tr>\n",
       "    <tr>\n",
       "      <th>4700605</th>\n",
       "      <td>3354403</td>\n",
       "      <td>47734</td>\n",
       "      <td>1</td>\n",
       "      <td>181340</td>\n",
       "      <td>0.0105</td>\n",
       "      <td>13.0</td>\n",
       "      <td>0.5186</td>\n",
       "      <td>1238.0</td>\n",
       "      <td>12.5000</td>\n",
       "    </tr>\n",
       "    <tr>\n",
       "      <th>1466586</th>\n",
       "      <td>1039446</td>\n",
       "      <td>31506</td>\n",
       "      <td>1</td>\n",
       "      <td>178241</td>\n",
       "      <td>0.0063</td>\n",
       "      <td>9.0</td>\n",
       "      <td>0.4766</td>\n",
       "      <td>1420.0</td>\n",
       "      <td>12.1000</td>\n",
       "    </tr>\n",
       "    <tr>\n",
       "      <th>1670738</th>\n",
       "      <td>1186685</td>\n",
       "      <td>11777</td>\n",
       "      <td>1</td>\n",
       "      <td>128201</td>\n",
       "      <td>0.0510</td>\n",
       "      <td>13.0</td>\n",
       "      <td>0.6430</td>\n",
       "      <td>255.0</td>\n",
       "      <td>8.1429</td>\n",
       "    </tr>\n",
       "    <tr>\n",
       "      <th>4624104</th>\n",
       "      <td>3303524</td>\n",
       "      <td>22795</td>\n",
       "      <td>0</td>\n",
       "      <td>55208</td>\n",
       "      <td>NaN</td>\n",
       "      <td>NaN</td>\n",
       "      <td>NaN</td>\n",
       "      <td>NaN</td>\n",
       "      <td>NaN</td>\n",
       "    </tr>\n",
       "    <tr>\n",
       "      <th>1348922</th>\n",
       "      <td>953497</td>\n",
       "      <td>47209</td>\n",
       "      <td>1</td>\n",
       "      <td>184236</td>\n",
       "      <td>0.0193</td>\n",
       "      <td>4.0</td>\n",
       "      <td>0.7966</td>\n",
       "      <td>207.0</td>\n",
       "      <td>3.4000</td>\n",
       "    </tr>\n",
       "    <tr>\n",
       "      <th>4417250</th>\n",
       "      <td>3159186</td>\n",
       "      <td>21137</td>\n",
       "      <td>1</td>\n",
       "      <td>77044</td>\n",
       "      <td>0.0174</td>\n",
       "      <td>14.0</td>\n",
       "      <td>0.7777</td>\n",
       "      <td>806.0</td>\n",
       "      <td>9.0000</td>\n",
       "    </tr>\n",
       "    <tr>\n",
       "      <th>2111569</th>\n",
       "      <td>1501280</td>\n",
       "      <td>19025</td>\n",
       "      <td>0</td>\n",
       "      <td>42845</td>\n",
       "      <td>NaN</td>\n",
       "      <td>NaN</td>\n",
       "      <td>NaN</td>\n",
       "      <td>NaN</td>\n",
       "      <td>NaN</td>\n",
       "    </tr>\n",
       "    <tr>\n",
       "      <th>3211721</th>\n",
       "      <td>2297270</td>\n",
       "      <td>4920</td>\n",
       "      <td>1</td>\n",
       "      <td>166441</td>\n",
       "      <td>0.0132</td>\n",
       "      <td>12.0</td>\n",
       "      <td>0.6673</td>\n",
       "      <td>907.0</td>\n",
       "      <td>12.2308</td>\n",
       "    </tr>\n",
       "    <tr>\n",
       "      <th>471432</th>\n",
       "      <td>327191</td>\n",
       "      <td>7781</td>\n",
       "      <td>1</td>\n",
       "      <td>7878</td>\n",
       "      <td>0.0053</td>\n",
       "      <td>1.0</td>\n",
       "      <td>0.7318</td>\n",
       "      <td>188.0</td>\n",
       "      <td>4.5000</td>\n",
       "    </tr>\n",
       "  </tbody>\n",
       "</table>\n",
       "</div>"
      ],
      "text/plain": [
       "         order_id  product_id  reordered  user_id  user_prod_reorder_rate  \\\n",
       "889086     630733        4329          1    88293                  0.1600   \n",
       "4700605   3354403       47734          1   181340                  0.0105   \n",
       "1466586   1039446       31506          1   178241                  0.0063   \n",
       "1670738   1186685       11777          1   128201                  0.0510   \n",
       "4624104   3303524       22795          0    55208                     NaN   \n",
       "1348922    953497       47209          1   184236                  0.0193   \n",
       "4417250   3159186       21137          1    77044                  0.0174   \n",
       "2111569   1501280       19025          0    42845                     NaN   \n",
       "3211721   2297270        4920          1   166441                  0.0132   \n",
       "471432     327191        7781          1     7878                  0.0053   \n",
       "\n",
       "         user_prod_reorders  prod_reorder_rate  user_orders  \\\n",
       "889086                  4.0             0.5740         25.0   \n",
       "4700605                13.0             0.5186       1238.0   \n",
       "1466586                 9.0             0.4766       1420.0   \n",
       "1670738                13.0             0.6430        255.0   \n",
       "4624104                 NaN                NaN          NaN   \n",
       "1348922                 4.0             0.7966        207.0   \n",
       "4417250                14.0             0.7777        806.0   \n",
       "2111569                 NaN                NaN          NaN   \n",
       "3211721                12.0             0.6673        907.0   \n",
       "471432                  1.0             0.7318        188.0   \n",
       "\n",
       "         avg_add_to_cart_order  \n",
       "889086                  2.6000  \n",
       "4700605                12.5000  \n",
       "1466586                12.1000  \n",
       "1670738                 8.1429  \n",
       "4624104                    NaN  \n",
       "1348922                 3.4000  \n",
       "4417250                 9.0000  \n",
       "2111569                    NaN  \n",
       "3211721                12.2308  \n",
       "471432                  4.5000  "
      ]
     },
     "execution_count": 15,
     "metadata": {},
     "output_type": "execute_result"
    }
   ],
   "source": [
    "train_order_features_df.sample(10)"
   ]
  },
  {
   "cell_type": "code",
   "execution_count": 28,
   "metadata": {},
   "outputs": [
    {
     "name": "stdout",
     "output_type": "stream",
     "text": [
      "<class 'pandas.core.frame.DataFrame'>\n",
      "Int64Index: 4793796 entries, 0 to 4793795\n",
      "Data columns (total 9 columns):\n",
      "order_id                  int64\n",
      "product_id                int64\n",
      "reordered                 int64\n",
      "user_id                   int64\n",
      "user_prod_reorder_rate    float64\n",
      "user_prod_reorders        float64\n",
      "prod_reorder_rate         float64\n",
      "user_orders               float64\n",
      "avg_add_to_cart_order     float64\n",
      "dtypes: float64(5), int64(4)\n",
      "memory usage: 525.7 MB\n"
     ]
    }
   ],
   "source": [
    "# confirm record count and data types\n",
    "train_order_features_df.info()"
   ]
  },
  {
   "cell_type": "code",
   "execution_count": 42,
   "metadata": {},
   "outputs": [
    {
     "data": {
      "text/plain": [
       "1    0.8841\n",
       "0    0.1159\n",
       "Name: reordered, dtype: float64"
      ]
     },
     "execution_count": 42,
     "metadata": {},
     "output_type": "execute_result"
    }
   ],
   "source": [
    "# check ratio of reordered products vs non-reordered products\n",
    "train_order_features_df.reordered.value_counts(normalize=True)"
   ]
  },
  {
   "cell_type": "code",
   "execution_count": 43,
   "metadata": {},
   "outputs": [
    {
     "data": {
      "text/plain": [
       "(479380, 9)"
      ]
     },
     "execution_count": 43,
     "metadata": {},
     "output_type": "execute_result"
    }
   ],
   "source": [
    "# capture sample and drop NaN records \n",
    "train_order_features_df = train_order_features_df.sample(frac=0.1)\n",
    "train_order_features_df.shape"
   ]
  },
  {
   "cell_type": "code",
   "execution_count": 44,
   "metadata": {},
   "outputs": [
    {
     "data": {
      "text/plain": [
       "1    0.8839\n",
       "0    0.1161\n",
       "Name: reordered, dtype: float64"
      ]
     },
     "execution_count": 44,
     "metadata": {},
     "output_type": "execute_result"
    }
   ],
   "source": [
    "# ensure a similar balance of reordered vs non-reordered products remain\n",
    "train_order_features_df.reordered.value_counts(normalize=True)"
   ]
  },
  {
   "cell_type": "code",
   "execution_count": 45,
   "metadata": {
    "collapsed": true
   },
   "outputs": [],
   "source": [
    "# replace NaN with '0'\n",
    "train_orders_df = train_order_features_df.fillna(0)"
   ]
  },
  {
   "cell_type": "code",
   "execution_count": 46,
   "metadata": {
    "collapsed": true
   },
   "outputs": [],
   "source": [
    "# Write to file\n",
    "train_orders_df.to_csv('transformed/train_order_features_sample.csv')"
   ]
  },
  {
   "cell_type": "code",
   "execution_count": 19,
   "metadata": {
    "collapsed": true
   },
   "outputs": [],
   "source": [
    "# read in prior orders feature sample dataset\n",
    "prior_orders_df = pd.read_csv('transformed/prior_order_features_sample.csv')"
   ]
  },
  {
   "cell_type": "code",
   "execution_count": 48,
   "metadata": {},
   "outputs": [
    {
     "name": "stdout",
     "output_type": "stream",
     "text": [
      "The accuracy score is 86.6%.\n",
      "The precision is 100.0% and the recall is 84.8%.\n"
     ]
    }
   ],
   "source": [
    "# evaluate performance using LR\n",
    "\n",
    "from sklearn.linear_model import LogisticRegression\n",
    "from sklearn.metrics import accuracy_score, precision_score, recall_score\n",
    "\n",
    "# assign features and targets from training data\n",
    "X_prior = prior_orders_df[['user_prod_reorder_rate','user_prod_reorders','prod_reorder_rate','user_orders','avg_add_to_cart_order']]\n",
    "y_prior = prior_orders_df['reordered']\n",
    "\n",
    "# initialize validation data\n",
    "X_train = train_orders_df[['user_prod_reorder_rate','user_prod_reorders','prod_reorder_rate','user_orders','avg_add_to_cart_order']]\n",
    "y_train = train_orders_df['reordered']\n",
    "\n",
    "lr = LogisticRegression()\n",
    "lr.fit(X_prior,y_prior)\n",
    "\n",
    "# Calculate precision and recall scores\n",
    "accuracy = lr.score(X_train,y_train)\n",
    "precision = float(precision_score(y_train, lr.predict(X_train)))\n",
    "recall = float(recall_score(y_train, lr.predict(X_train)))\n",
    "\n",
    "print(\"The accuracy score is {:.1f}%.\".format(accuracy*100))\n",
    "\n",
    "print(\"The precision is {:.1f}% and the recall is {:.1f}%.\".format(precision * 100, recall * 100))"
   ]
  },
  {
   "cell_type": "code",
   "execution_count": 49,
   "metadata": {},
   "outputs": [
    {
     "data": {
      "text/plain": [
       "1    0.8839\n",
       "0    0.1161\n",
       "Name: reordered, dtype: float64"
      ]
     },
     "execution_count": 49,
     "metadata": {},
     "output_type": "execute_result"
    }
   ],
   "source": [
    "# determine null accuracy\n",
    "y_train.value_counts(normalize=True)"
   ]
  },
  {
   "cell_type": "markdown",
   "metadata": {},
   "source": [
    "_It appears the LR model has very high precision and perfect recall, far exceeding the null accuracy baseline._"
   ]
  },
  {
   "cell_type": "code",
   "execution_count": 50,
   "metadata": {},
   "outputs": [
    {
     "data": {
      "text/plain": [
       "Text(0.5,0,u'False Positive Rate')"
      ]
     },
     "execution_count": 50,
     "metadata": {},
     "output_type": "execute_result"
    },
    {
     "data": {
      "image/png": "[encoded data removed]",
      "text/plain": [
       "<matplotlib.figure.Figure at 0xfbe31518>"
      ]
     },
     "metadata": {},
     "output_type": "display_data"
    }
   ],
   "source": [
    "# Visualize precision and recall using ROC curve\n",
    "\n",
    "from sklearn.metrics import roc_curve, roc_auc_score\n",
    "\n",
    "y_prob = lr.predict_proba(X_train)[:,1]\n",
    "false_positive_rate, true_positive_rate, threshold = roc_curve(y_train, y_prob)\n",
    "\n",
    "plt.figure(figsize=(10,8))\n",
    "plt.title('Receiver Operating Characteristic')\n",
    "plt.plot(false_positive_rate, true_positive_rate)\n",
    "plt.plot([0, 1], ls='--')\n",
    "plt.ylabel('True Positive Rate')\n",
    "plt.xlabel('False Positive Rate')"
   ]
  },
  {
   "cell_type": "code",
   "execution_count": 51,
   "metadata": {},
   "outputs": [
    {
     "name": "stdout",
     "output_type": "stream",
     "text": [
      "The AUROC score is 99.6%.\n"
     ]
    }
   ],
   "source": [
    "# Calculate the area under the curve using AUROC score\n",
    "# The estimated probability that a uniformly drawn random positive is ranked before a uniformly drawn random negative.\n",
    "ras = roc_auc_score(y_train, y_prob)\n",
    "print(\"The AUROC score is {:.1f}%.\".format(ras*100))"
   ]
  },
  {
   "cell_type": "code",
   "execution_count": 52,
   "metadata": {},
   "outputs": [
    {
     "name": "stdout",
     "output_type": "stream",
     "text": [
      "Random Forest: 100.0%.\n",
      "GBDT: 100.0%.\n",
      "KNN: 100.0%.\n"
     ]
    }
   ],
   "source": [
    "# Let's take a look at how some other models perform\n",
    "\n",
    "from sklearn import ensemble, neighbors\n",
    "from sklearn.model_selection import cross_val_score\n",
    "\n",
    "cls = ensemble.RandomForestClassifier(n_estimators=50) \n",
    "cls.fit(X_prior, y_prior)\n",
    "\n",
    "print ('Random Forest: {:.1f}%.'.format( cross_val_score(cls, X_train, y_train, scoring='roc_auc', cv=5).mean() * 100 ))\n",
    "    \n",
    "cls = ensemble.GradientBoostingClassifier(n_estimators=50) \n",
    "cls.fit(X_prior, y_prior)\n",
    "\n",
    "print ('GBDT: {:.1f}%.'.format( cross_val_score(cls, X_train, y_train, scoring='roc_auc', cv=5).mean() * 100 ))\n",
    "    \n",
    "cls = neighbors.KNeighborsClassifier(n_neighbors=5)\n",
    "cls.fit(X_prior, y_prior)\n",
    "\n",
    "print ('KNN: {:.1f}%.'.format( cross_val_score(cls, X_train, y_train, scoring='roc_auc', cv=5).mean() * 100 ))"
   ]
  },
  {
   "cell_type": "code",
   "execution_count": null,
   "metadata": {
    "collapsed": true
   },
   "outputs": [],
   "source": []
  }
 ],
 "metadata": {
  "kernelspec": {
   "display_name": "Python 2",
   "language": "python",
   "name": "python2"
  },
  "language_info": {
   "codemirror_mode": {
    "name": "ipython",
    "version": 2
   },
   "file_extension": ".py",
   "mimetype": "text/x-python",
   "name": "python",
   "nbconvert_exporter": "python",
   "pygments_lexer": "ipython2",
   "version": "2.7.14"
  }
 },
 "nbformat": 4,
 "nbformat_minor": 2
}
