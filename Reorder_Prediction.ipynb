{
 "cells": [
  {
   "cell_type": "markdown",
   "metadata": {
    "collapsed": true
   },
   "source": [
    "### Objective: Which products will an Instacart consumer purchase again?\n",
    "#### We'll apply some different models to observe their predictive performance. "
   ]
  },
  {
   "cell_type": "code",
   "execution_count": 1,
   "metadata": {
    "collapsed": true
   },
   "outputs": [],
   "source": [
    "import pandas as pd\n",
    "import numpy as np\n",
    "pd.set_option('precision',4)\n",
    "\n",
    "import seaborn as sns\n",
    "import matplotlib.pyplot as plt\n",
    "%matplotlib inline\n",
    "plt.style.use('seaborn')"
   ]
  },
  {
   "cell_type": "code",
   "execution_count": 2,
   "metadata": {
    "collapsed": true
   },
   "outputs": [],
   "source": [
    "# read in feature datasets\n",
    "prior_orders_df = pd.read_csv('transformed/prior_order_features.csv')\n",
    "train_orders_df = pd.read_csv('transformed/train_order_features.csv')"
   ]
  },
  {
   "cell_type": "code",
   "execution_count": 8,
   "metadata": {},
   "outputs": [
    {
     "name": "stdout",
     "output_type": "stream",
     "text": [
      "The accuracy score is 98.4%.\n",
      "The precision is 97.4% and the recall is 100.0%.\n"
     ]
    }
   ],
   "source": [
    "# evaluate performance using LR\n",
    "\n",
    "from sklearn.linear_model import LogisticRegression\n",
    "from sklearn.metrics import accuracy_score, precision_score, recall_score\n",
    "\n",
    "# assign features and targets from training data\n",
    "X_prior = prior_orders_df[['user_prod_reorder_rate','user_prod_reorders','prod_reorder_rate','prod_reorders']]\n",
    "y_prior = prior_orders_df['reordered']\n",
    "\n",
    "# initialize validation data\n",
    "X_train = train_orders_df[['user_prod_reorder_rate','user_prod_reorders','prod_reorder_rate','prod_reorders']]\n",
    "y_train = train_orders_df['reordered']\n",
    "\n",
    "lr = LogisticRegression()\n",
    "lr.fit(X_prior,y_prior)\n",
    "\n",
    "# Calculate precision and recall scores\n",
    "accuracy = lr.score(X_train,y_train)\n",
    "precision = float(precision_score(y_train, lr.predict(X_train)))\n",
    "recall = float(recall_score(y_train, lr.predict(X_train)))\n",
    "\n",
    "print(\"The accuracy score is {:.1f}%.\".format(accuracy*100))\n",
    "\n",
    "print(\"The precision is {:.1f}% and the recall is {:.1f}%.\".format(precision * 100, recall * 100))"
   ]
  },
  {
   "cell_type": "code",
   "execution_count": 6,
   "metadata": {},
   "outputs": [
    {
     "data": {
      "text/plain": [
       "1    0.5958\n",
       "0    0.4042\n",
       "Name: reordered, dtype: float64"
      ]
     },
     "execution_count": 6,
     "metadata": {},
     "output_type": "execute_result"
    }
   ],
   "source": [
    "# determine null accuracy\n",
    "y_train.value_counts(normalize=True)"
   ]
  },
  {
   "cell_type": "markdown",
   "metadata": {},
   "source": [
    "_It appears the LR model has very high precision and perfect recall, far exceeding the null accuracy baseline._"
   ]
  },
  {
   "cell_type": "code",
   "execution_count": 10,
   "metadata": {},
   "outputs": [
    {
     "data": {
      "text/plain": [
       "Text(0.5,0,u'False Positive Rate')"
      ]
     },
     "execution_count": 10,
     "metadata": {},
     "output_type": "execute_result"
    },
    {
     "data": {
      "image/png": "[encoded data removed]",
      "text/plain": [
       "<matplotlib.figure.Figure at 0xeedd400>"
      ]
     },
     "metadata": {},
     "output_type": "display_data"
    }
   ],
   "source": [
    "# Visualize precision and recall using ROC curve\n",
    "\n",
    "from sklearn.metrics import roc_curve, roc_auc_score\n",
    "\n",
    "y_prob = lr.predict_proba(X_train)[:,1]\n",
    "false_positive_rate, true_positive_rate, threshold = roc_curve(y_train, y_prob)\n",
    "\n",
    "plt.figure(figsize=(10,8))\n",
    "plt.title('Receiver Operating Characteristic')\n",
    "plt.plot(false_positive_rate, true_positive_rate)\n",
    "plt.plot([0, 1], ls='--')\n",
    "plt.ylabel('True Positive Rate')\n",
    "plt.xlabel('False Positive Rate')"
   ]
  },
  {
   "cell_type": "code",
   "execution_count": 11,
   "metadata": {},
   "outputs": [
    {
     "name": "stdout",
     "output_type": "stream",
     "text": [
      "The AUROC score is 100.0%.\n"
     ]
    }
   ],
   "source": [
    "# Calculate the area under the curve using AUROC score\n",
    "# The estimated probability that a uniformly drawn random positive is ranked before a uniformly drawn random negative.\n",
    "ras = roc_auc_score(y_train, y_prob)\n",
    "print(\"The AUROC score is {:.1f}%.\".format(ras*100))"
   ]
  },
  {
   "cell_type": "code",
   "execution_count": 14,
   "metadata": {},
   "outputs": [
    {
     "name": "stdout",
     "output_type": "stream",
     "text": [
      "Random Forest: 100.0%.\n",
      "GBDT: 100.0%.\n",
      "KNN: 100.0%.\n"
     ]
    }
   ],
   "source": [
    "# Let's take a look at how some other models perform\n",
    "\n",
    "from sklearn import ensemble, neighbors\n",
    "from sklearn.model_selection import cross_val_score\n",
    "\n",
    "cls = ensemble.RandomForestClassifier(n_estimators=50) \n",
    "cls.fit(X_prior, y_prior)\n",
    "\n",
    "print ('Random Forest: {:.1f}%.'.format( cross_val_score(cls, X_train, y_train, scoring='roc_auc', cv=5).mean() * 100 ))\n",
    "    \n",
    "cls = ensemble.GradientBoostingClassifier(n_estimators=50) \n",
    "cls.fit(X_prior, y_prior)\n",
    "\n",
    "print ('GBDT: {:.1f}%.'.format( cross_val_score(cls, X_train, y_train, scoring='roc_auc', cv=5).mean() * 100 ))\n",
    "    \n",
    "cls = neighbors.KNeighborsClassifier(n_neighbors=5)\n",
    "cls.fit(X_prior, y_prior)\n",
    "\n",
    "print ('KNN: {:.1f}%.'.format( cross_val_score(cls, X_train, y_train, scoring='roc_auc', cv=5).mean() * 100 ))"
   ]
  },
  {
   "cell_type": "code",
   "execution_count": null,
   "metadata": {
    "collapsed": true
   },
   "outputs": [],
   "source": []
  }
 ],
 "metadata": {
  "kernelspec": {
   "display_name": "Python 2",
   "language": "python",
   "name": "python2"
  },
  "language_info": {
   "codemirror_mode": {
    "name": "ipython",
    "version": 2
   },
   "file_extension": ".py",
   "mimetype": "text/x-python",
   "name": "python",
   "nbconvert_exporter": "python",
   "pygments_lexer": "ipython2",
   "version": "2.7.14"
  }
 },
 "nbformat": 4,
 "nbformat_minor": 2
}
